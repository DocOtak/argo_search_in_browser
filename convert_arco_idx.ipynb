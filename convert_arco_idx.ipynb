{
 "cells": [
  {
   "cell_type": "code",
   "execution_count": 1,
   "id": "ac8d99be-6959-4c75-b694-70fce4fb339c",
   "metadata": {},
   "outputs": [],
   "source": [
    "import polars as pl\n",
    "import pandas as pd"
   ]
  },
  {
   "cell_type": "code",
   "execution_count": 2,
   "id": "7f01dcb8-9202-494d-a3e3-51598e93e86f",
   "metadata": {},
   "outputs": [],
   "source": [
    "# download this file from https://argo-gdac-sandbox.s3-eu-west-3.amazonaws.com/pub/idx/argo_profile_detailled_index.txt\n",
    "data = pl.read_csv(\"argo_profile_detailled_index.txt\", comment_prefix=\"#\", dtypes={\"date\": pl.String, \"latitude\": pl.Float32, \"longitude\": pl.Float32})"
   ]
  },
  {
   "cell_type": "code",
   "execution_count": 3,
   "id": "d8924a8a-8164-4e10-9eac-7036541e0951",
   "metadata": {},
   "outputs": [
    {
     "data": {
      "text/html": [
       "<div><style>\n",
       ".dataframe > thead > tr,\n",
       ".dataframe > tbody > tr {\n",
       "  text-align: right;\n",
       "  white-space: pre-wrap;\n",
       "}\n",
       "</style>\n",
       "<small>shape: (2_969_712, 16)</small><table border=\"1\" class=\"dataframe\"><thead><tr><th>file</th><th>date</th><th>latitude</th><th>longitude</th><th>ocean</th><th>profiler_type</th><th>institution</th><th>date_update</th><th>profile_temp_qc</th><th>profile_psal_qc</th><th>profile_doxy_qc</th><th>ad_psal_adjustment_mean</th><th>ad_psal_adjustment_deviation</th><th>gdac_date_creation</th><th>gdac_date_update</th><th>n_levels</th></tr><tr><td>str</td><td>str</td><td>f32</td><td>f32</td><td>str</td><td>i64</td><td>str</td><td>i64</td><td>str</td><td>str</td><td>str</td><td>str</td><td>str</td><td>i64</td><td>i64</td><td>i64</td></tr></thead><tbody><tr><td>&quot;aoml/13857/profiles/R13857_001…</td><td>&quot;19970729200300&quot;</td><td>0.267</td><td>-16.032</td><td>&quot;A&quot;</td><td>845</td><td>&quot;AO&quot;</td><td>20181011180520</td><td>&quot;A&quot;</td><td>null</td><td>null</td><td>null</td><td>null</td><td>20080919024522</td><td>20181011183705</td><td>112</td></tr><tr><td>&quot;aoml/13857/profiles/R13857_002…</td><td>&quot;19970809192112&quot;</td><td>0.072</td><td>-17.659</td><td>&quot;A&quot;</td><td>845</td><td>&quot;AO&quot;</td><td>20181011180521</td><td>&quot;A&quot;</td><td>null</td><td>null</td><td>null</td><td>null</td><td>20080919024518</td><td>20181011183705</td><td>112</td></tr><tr><td>&quot;aoml/13857/profiles/R13857_003…</td><td>&quot;19970820184545&quot;</td><td>0.543</td><td>-19.622</td><td>&quot;A&quot;</td><td>845</td><td>&quot;AO&quot;</td><td>20181011180521</td><td>&quot;A&quot;</td><td>null</td><td>null</td><td>null</td><td>null</td><td>20080919024518</td><td>20181011183706</td><td>111</td></tr><tr><td>&quot;aoml/13857/profiles/R13857_004…</td><td>&quot;19970831193905&quot;</td><td>1.256</td><td>-20.521</td><td>&quot;A&quot;</td><td>845</td><td>&quot;AO&quot;</td><td>20181011180521</td><td>&quot;A&quot;</td><td>null</td><td>null</td><td>null</td><td>null</td><td>20090804120601</td><td>20181011183708</td><td>109</td></tr><tr><td>&quot;aoml/13857/profiles/R13857_005…</td><td>&quot;19970911185808&quot;</td><td>0.72</td><td>-20.768</td><td>&quot;A&quot;</td><td>845</td><td>&quot;AO&quot;</td><td>20181011180521</td><td>&quot;A&quot;</td><td>null</td><td>null</td><td>null</td><td>null</td><td>20090804173418</td><td>20181011183709</td><td>107</td></tr><tr><td>&hellip;</td><td>&hellip;</td><td>&hellip;</td><td>&hellip;</td><td>&hellip;</td><td>&hellip;</td><td>&hellip;</td><td>&hellip;</td><td>&hellip;</td><td>&hellip;</td><td>&hellip;</td><td>&hellip;</td><td>&hellip;</td><td>&hellip;</td><td>&hellip;</td><td>&hellip;</td></tr><tr><td>&quot;nmdis/2901633/profiles/R290163…</td><td>&quot;20130501043845&quot;</td><td>27.462</td><td>139.106995</td><td>&quot;P&quot;</td><td>841</td><td>&quot;NM&quot;</td><td>20130507103443</td><td>&quot;A&quot;</td><td>&quot;A&quot;</td><td>null</td><td>null</td><td>null</td><td>20130618081257</td><td>20230509024509</td><td>93</td></tr><tr><td>&quot;nmdis/2901633/profiles/R290163…</td><td>&quot;20130511043338&quot;</td><td>27.431999</td><td>138.839996</td><td>&quot;P&quot;</td><td>841</td><td>&quot;NM&quot;</td><td>20130511165723</td><td>&quot;A&quot;</td><td>&quot;A&quot;</td><td>null</td><td>null</td><td>null</td><td>20130618081258</td><td>20230509024510</td><td>93</td></tr><tr><td>&quot;nmdis/2901633/profiles/R290163…</td><td>&quot;20130521042631&quot;</td><td>27.691999</td><td>138.677002</td><td>&quot;P&quot;</td><td>841</td><td>&quot;NM&quot;</td><td>20130521170139</td><td>&quot;A&quot;</td><td>&quot;A&quot;</td><td>null</td><td>null</td><td>null</td><td>20130618081258</td><td>20230509024511</td><td>93</td></tr><tr><td>&quot;nmdis/2901633/profiles/R290163…</td><td>&quot;20130531044525&quot;</td><td>27.895</td><td>138.464996</td><td>&quot;P&quot;</td><td>841</td><td>&quot;NM&quot;</td><td>20130531181516</td><td>&quot;A&quot;</td><td>&quot;A&quot;</td><td>null</td><td>null</td><td>null</td><td>20130618081258</td><td>20230509024512</td><td>95</td></tr><tr><td>&quot;nmdis/2901633/profiles/R290163…</td><td>&quot;20130610043319&quot;</td><td>27.931</td><td>138.089996</td><td>&quot;P&quot;</td><td>841</td><td>&quot;NM&quot;</td><td>20130617181801</td><td>&quot;A&quot;</td><td>&quot;A&quot;</td><td>null</td><td>null</td><td>null</td><td>20140202160124</td><td>20230509024513</td><td>94</td></tr></tbody></table></div>"
      ],
      "text/plain": [
       "shape: (2_969_712, 16)\n",
       "┌───────────┬───────────┬───────────┬───────────┬───┬───────────┬───────────┬───────────┬──────────┐\n",
       "│ file      ┆ date      ┆ latitude  ┆ longitude ┆ … ┆ ad_psal_a ┆ gdac_date ┆ gdac_date ┆ n_levels │\n",
       "│ ---       ┆ ---       ┆ ---       ┆ ---       ┆   ┆ djustment ┆ _creation ┆ _update   ┆ ---      │\n",
       "│ str       ┆ str       ┆ f32       ┆ f32       ┆   ┆ _deviatio ┆ ---       ┆ ---       ┆ i64      │\n",
       "│           ┆           ┆           ┆           ┆   ┆ n         ┆ i64       ┆ i64       ┆          │\n",
       "│           ┆           ┆           ┆           ┆   ┆ ---       ┆           ┆           ┆          │\n",
       "│           ┆           ┆           ┆           ┆   ┆ str       ┆           ┆           ┆          │\n",
       "╞═══════════╪═══════════╪═══════════╪═══════════╪═══╪═══════════╪═══════════╪═══════════╪══════════╡\n",
       "│ aoml/1385 ┆ 199707292 ┆ 0.267     ┆ -16.032   ┆ … ┆ null      ┆ 200809190 ┆ 201810111 ┆ 112      │\n",
       "│ 7/profile ┆ 00300     ┆           ┆           ┆   ┆           ┆ 24522     ┆ 83705     ┆          │\n",
       "│ s/R13857_ ┆           ┆           ┆           ┆   ┆           ┆           ┆           ┆          │\n",
       "│ 001…      ┆           ┆           ┆           ┆   ┆           ┆           ┆           ┆          │\n",
       "│ aoml/1385 ┆ 199708091 ┆ 0.072     ┆ -17.659   ┆ … ┆ null      ┆ 200809190 ┆ 201810111 ┆ 112      │\n",
       "│ 7/profile ┆ 92112     ┆           ┆           ┆   ┆           ┆ 24518     ┆ 83705     ┆          │\n",
       "│ s/R13857_ ┆           ┆           ┆           ┆   ┆           ┆           ┆           ┆          │\n",
       "│ 002…      ┆           ┆           ┆           ┆   ┆           ┆           ┆           ┆          │\n",
       "│ aoml/1385 ┆ 199708201 ┆ 0.543     ┆ -19.622   ┆ … ┆ null      ┆ 200809190 ┆ 201810111 ┆ 111      │\n",
       "│ 7/profile ┆ 84545     ┆           ┆           ┆   ┆           ┆ 24518     ┆ 83706     ┆          │\n",
       "│ s/R13857_ ┆           ┆           ┆           ┆   ┆           ┆           ┆           ┆          │\n",
       "│ 003…      ┆           ┆           ┆           ┆   ┆           ┆           ┆           ┆          │\n",
       "│ aoml/1385 ┆ 199708311 ┆ 1.256     ┆ -20.521   ┆ … ┆ null      ┆ 200908041 ┆ 201810111 ┆ 109      │\n",
       "│ 7/profile ┆ 93905     ┆           ┆           ┆   ┆           ┆ 20601     ┆ 83708     ┆          │\n",
       "│ s/R13857_ ┆           ┆           ┆           ┆   ┆           ┆           ┆           ┆          │\n",
       "│ 004…      ┆           ┆           ┆           ┆   ┆           ┆           ┆           ┆          │\n",
       "│ aoml/1385 ┆ 199709111 ┆ 0.72      ┆ -20.768   ┆ … ┆ null      ┆ 200908041 ┆ 201810111 ┆ 107      │\n",
       "│ 7/profile ┆ 85808     ┆           ┆           ┆   ┆           ┆ 73418     ┆ 83709     ┆          │\n",
       "│ s/R13857_ ┆           ┆           ┆           ┆   ┆           ┆           ┆           ┆          │\n",
       "│ 005…      ┆           ┆           ┆           ┆   ┆           ┆           ┆           ┆          │\n",
       "│ …         ┆ …         ┆ …         ┆ …         ┆ … ┆ …         ┆ …         ┆ …         ┆ …        │\n",
       "│ nmdis/290 ┆ 201305010 ┆ 27.462    ┆ 139.10699 ┆ … ┆ null      ┆ 201306180 ┆ 202305090 ┆ 93       │\n",
       "│ 1633/prof ┆ 43845     ┆           ┆ 5         ┆   ┆           ┆ 81257     ┆ 24509     ┆          │\n",
       "│ iles/R290 ┆           ┆           ┆           ┆   ┆           ┆           ┆           ┆          │\n",
       "│ 163…      ┆           ┆           ┆           ┆   ┆           ┆           ┆           ┆          │\n",
       "│ nmdis/290 ┆ 201305110 ┆ 27.431999 ┆ 138.83999 ┆ … ┆ null      ┆ 201306180 ┆ 202305090 ┆ 93       │\n",
       "│ 1633/prof ┆ 43338     ┆           ┆ 6         ┆   ┆           ┆ 81258     ┆ 24510     ┆          │\n",
       "│ iles/R290 ┆           ┆           ┆           ┆   ┆           ┆           ┆           ┆          │\n",
       "│ 163…      ┆           ┆           ┆           ┆   ┆           ┆           ┆           ┆          │\n",
       "│ nmdis/290 ┆ 201305210 ┆ 27.691999 ┆ 138.67700 ┆ … ┆ null      ┆ 201306180 ┆ 202305090 ┆ 93       │\n",
       "│ 1633/prof ┆ 42631     ┆           ┆ 2         ┆   ┆           ┆ 81258     ┆ 24511     ┆          │\n",
       "│ iles/R290 ┆           ┆           ┆           ┆   ┆           ┆           ┆           ┆          │\n",
       "│ 163…      ┆           ┆           ┆           ┆   ┆           ┆           ┆           ┆          │\n",
       "│ nmdis/290 ┆ 201305310 ┆ 27.895    ┆ 138.46499 ┆ … ┆ null      ┆ 201306180 ┆ 202305090 ┆ 95       │\n",
       "│ 1633/prof ┆ 44525     ┆           ┆ 6         ┆   ┆           ┆ 81258     ┆ 24512     ┆          │\n",
       "│ iles/R290 ┆           ┆           ┆           ┆   ┆           ┆           ┆           ┆          │\n",
       "│ 163…      ┆           ┆           ┆           ┆   ┆           ┆           ┆           ┆          │\n",
       "│ nmdis/290 ┆ 201306100 ┆ 27.931    ┆ 138.08999 ┆ … ┆ null      ┆ 201402021 ┆ 202305090 ┆ 94       │\n",
       "│ 1633/prof ┆ 43319     ┆           ┆ 6         ┆   ┆           ┆ 60124     ┆ 24513     ┆          │\n",
       "│ iles/R290 ┆           ┆           ┆           ┆   ┆           ┆           ┆           ┆          │\n",
       "│ 163…      ┆           ┆           ┆           ┆   ┆           ┆           ┆           ┆          │\n",
       "└───────────┴───────────┴───────────┴───────────┴───┴───────────┴───────────┴───────────┴──────────┘"
      ]
     },
     "execution_count": 3,
     "metadata": {},
     "output_type": "execute_result"
    }
   ],
   "source": [
    "data"
   ]
  },
  {
   "cell_type": "code",
   "execution_count": 4,
   "id": "a3ffcdbf-5eb3-4db7-b002-c41b1563bd79",
   "metadata": {},
   "outputs": [],
   "source": [
    "data.drop_nulls([\"date\", \"latitude\", \"longitude\"]).select(pl.col(\"file\"), pl.col(\"date\",).str.strptime(pl.Datetime(\"ms\"), \"%Y%m%d%H%M%S\"), pl.col(\"latitude\"), pl.col(\"longitude\")).write_parquet(\"public/argo_index.parquet\", compression=\"zstd\")"
   ]
  },
  {
   "cell_type": "code",
   "execution_count": null,
   "id": "03ba301d-6fe1-41a2-a0b8-d605a296c5be",
   "metadata": {},
   "outputs": [],
   "source": []
  }
 ],
 "metadata": {
  "kernelspec": {
   "display_name": "Python 3 (ipykernel)",
   "language": "python",
   "name": "python3"
  },
  "language_info": {
   "codemirror_mode": {
    "name": "ipython",
    "version": 3
   },
   "file_extension": ".py",
   "mimetype": "text/x-python",
   "name": "python",
   "nbconvert_exporter": "python",
   "pygments_lexer": "ipython3",
   "version": "3.12.3"
  }
 },
 "nbformat": 4,
 "nbformat_minor": 5
}
